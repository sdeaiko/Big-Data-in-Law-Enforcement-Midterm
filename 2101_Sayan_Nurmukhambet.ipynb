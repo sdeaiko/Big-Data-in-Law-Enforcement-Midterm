{
 "cells": [
  {
   "cell_type": "markdown",
   "id": "7db35984",
   "metadata": {},
   "source": [
    "# Big Data in Law Enforcement "
   ]
  },
  {
   "cell_type": "markdown",
   "id": "f9e41c7a",
   "metadata": {},
   "source": [
    "## Introduction\n",
    "\n",
    "Big Data and Cyber Security are two important fields in the world of technology. Big Data involves the processing and analysis of large datasets, while Cyber Security focuses on protecting systems and data from cyber threats."
   ]
  },
  {
   "cell_type": "markdown",
   "id": "fc520b16",
   "metadata": {},
   "source": [
    "*Some of the popular languages that Data Scientists use are:*\n",
    "1. Python\n",
    "2. R\n",
    "3. Java"
   ]
  },
  {
   "cell_type": "markdown",
   "id": "1ff45b29",
   "metadata": {},
   "source": [
    "*Some of the commonly used libraries used by Data Scientists include:*\n",
    "- Pandas\n",
    "- NumPy\n",
    "- Scikit-Learn"
   ]
  },
  {
   "cell_type": "markdown",
   "id": "acc1ea7c",
   "metadata": {},
   "source": [
    "| Data Science Tools  |\n",
    "|---------------------|\n",
    "| Jupyter Notebook    |\n",
    "| Apache Spark        |\n",
    "| TensorFlow          |"
   ]
  },
  {
   "cell_type": "markdown",
   "id": "137aea07",
   "metadata": {},
   "source": [
    "### Below are a few examples of evaluating arithmetic expressions in Python.\n"
   ]
  },
  {
   "cell_type": "code",
   "execution_count": 9,
   "id": "a428c01e",
   "metadata": {},
   "outputs": [
    {
     "data": {
      "text/plain": [
       "33"
      ]
     },
     "execution_count": 9,
     "metadata": {},
     "output_type": "execute_result"
    }
   ],
   "source": [
    "# This is a simple arithmetic expression\n",
    "result = (4 * 6) + 9\n",
    "result\n"
   ]
  },
  {
   "cell_type": "code",
   "execution_count": 10,
   "id": "432677a0",
   "metadata": {},
   "outputs": [
    {
     "data": {
      "text/plain": [
       "5.0"
      ]
     },
     "execution_count": 10,
     "metadata": {},
     "output_type": "execute_result"
    }
   ],
   "source": [
    "# This will convert 300 minutes to hours by dividing by 60.\n",
    "minutes = 300\n",
    "hours = minutes / 60\n",
    "hours\n"
   ]
  },
  {
   "cell_type": "markdown",
   "id": "04ea9e5f",
   "metadata": {},
   "source": [
    "**Objectives**\n",
    "- Provide an introduction to Big Data and Cyber Security.\n",
    "- List commonly used data science languages and libraries.\n",
    "- Introduce Data Science tools.\n"
   ]
  },
  {
   "cell_type": "markdown",
   "id": "5c611469",
   "metadata": {},
   "source": [
    "## Author\n",
    "Sayan Nurmukhambet\n"
   ]
  }
 ],
 "metadata": {
  "kernelspec": {
   "display_name": "Python 3 (ipykernel)",
   "language": "python",
   "name": "python3"
  },
  "language_info": {
   "codemirror_mode": {
    "name": "ipython",
    "version": 3
   },
   "file_extension": ".py",
   "mimetype": "text/x-python",
   "name": "python",
   "nbconvert_exporter": "python",
   "pygments_lexer": "ipython3",
   "version": "3.11.5"
  }
 },
 "nbformat": 4,
 "nbformat_minor": 5
}
